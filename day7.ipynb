{
 "cells": [
  {
   "cell_type": "code",
   "execution_count": 7,
   "id": "2332229b-6098-48fb-9fc8-f2b2baeae2b6",
   "metadata": {},
   "outputs": [
    {
     "ename": "NameError",
     "evalue": "name 'lr_acc' is not defined",
     "output_type": "error",
     "traceback": [
      "\u001b[0;31m---------------------------------------------------------------------------\u001b[0m",
      "\u001b[0;31mNameError\u001b[0m                                 Traceback (most recent call last)",
      "Cell \u001b[0;32mIn[7], line 36\u001b[0m\n\u001b[1;32m     33\u001b[0m y_pred_rf\u001b[38;5;241m=\u001b[39mrf\u001b[38;5;241m.\u001b[39mpredict(X_test)\n\u001b[1;32m     34\u001b[0m rf_acc\u001b[38;5;241m=\u001b[39maccuracy_score(y_test,y_pred_rf)\n\u001b[0;32m---> 36\u001b[0m \u001b[38;5;28mprint\u001b[39m(\u001b[38;5;124mf\u001b[39m\u001b[38;5;124m\"\u001b[39m\u001b[38;5;124mLogistic Regression accuracy: \u001b[39m\u001b[38;5;132;01m{\u001b[39;00mlr_acc\u001b[38;5;132;01m:\u001b[39;00m\u001b[38;5;124m.3f\u001b[39m\u001b[38;5;132;01m}\u001b[39;00m\u001b[38;5;124m\"\u001b[39m)\n\u001b[1;32m     37\u001b[0m \u001b[38;5;28mprint\u001b[39m(\u001b[38;5;124mf\u001b[39m\u001b[38;5;124m\"\u001b[39m\u001b[38;5;124mRandom Forest accuracy:       \u001b[39m\u001b[38;5;132;01m{\u001b[39;00mrf_acc\u001b[38;5;132;01m:\u001b[39;00m\u001b[38;5;124m.3f\u001b[39m\u001b[38;5;132;01m}\u001b[39;00m\u001b[38;5;124m\"\u001b[39m)\n\u001b[1;32m     39\u001b[0m \u001b[38;5;66;03m#feature importance\u001b[39;00m\n",
      "\u001b[0;31mNameError\u001b[0m: name 'lr_acc' is not defined"
     ]
    }
   ],
   "source": [
    "import pandas as pd\n",
    "import matplotlib.pyplot as plt\n",
    "\n",
    "#sklearn stuff\n",
    "from sklearn.model_selection import train_test_split\n",
    "from sklearn.ensemble import RandomForestClassifier\n",
    "from sklearn.linear_model import LogisticRegression\n",
    "from sklearn.metrics import accuracy_score, classification_report, confusion_matrix\n",
    "\n",
    "#load cleaned datasets\n",
    "df=pd.read_csv(\"downloads/titanic_clean.csv\")\n",
    "\n",
    "#features / target\n",
    "X=df[['Pclass','Sex','Age','Fare','SibSp','Parch']]\n",
    "y=df['Survived']\n",
    "\n",
    "#train/ test split\n",
    "X_train,X_test,y_train,y_test = train_test_split(X,y,test_size=0.2, random_state=42)\n",
    "\n",
    "#Baseline: Logistic Regression\n",
    "\n",
    "lr= LogisticRegression(max_iter=1000)\n",
    "lr.fit(X_train,y_train)\n",
    "\n",
    "#calculate accuracy\n",
    "lr_acc=lr.score(X_test,y_test)\n",
    "\n",
    "#random forest model\n",
    "rf=RandomForestClassifier(n_estimators=300,#number of trees\n",
    "                          max_depth=None,#let trees grown;can tune later\n",
    "                          random_state=42\n",
    "                         )\n",
    "rf.fit(X_train,y_train)\n",
    "\n",
    "#evaluate both\n",
    "y_pred_rf=rf.predict(X_test)\n",
    "rf_acc=accuracy_score(y_test,y_pred_rf)\n",
    "\n",
    "print(f\"Logistic Regression accuracy: {lr_acc:.3f}\")\n",
    "print(f\"Random Forest accuracy:       {rf_acc:.3f}\")\n",
    "\n",
    "#feature importance\n",
    "importances=pd.Series(rf.feature_importance_,index=X.columns).sort_values()\n",
    "\n",
    "plt.figure(figsize=(7,4))\n",
    "importance.plot(kind='barh')\n",
    "plt.title(\"Random Forest Feature Importance\")\n",
    "plt.xlabel(\"Importance\")\n",
    "plt.tight_layout()\n",
    "plt.show()\n"
   ]
  },
  {
   "cell_type": "code",
   "execution_count": null,
   "id": "22638340-aac8-449c-b315-e3ca5c75be9a",
   "metadata": {},
   "outputs": [],
   "source": []
  }
 ],
 "metadata": {
  "kernelspec": {
   "display_name": "Python [conda env:base] *",
   "language": "python",
   "name": "conda-base-py"
  },
  "language_info": {
   "codemirror_mode": {
    "name": "ipython",
    "version": 3
   },
   "file_extension": ".py",
   "mimetype": "text/x-python",
   "name": "python",
   "nbconvert_exporter": "python",
   "pygments_lexer": "ipython3",
   "version": "3.13.5"
  }
 },
 "nbformat": 4,
 "nbformat_minor": 5
}
